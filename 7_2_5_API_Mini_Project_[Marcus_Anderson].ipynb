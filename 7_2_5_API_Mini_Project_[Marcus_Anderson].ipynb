{
  "nbformat": 4,
  "nbformat_minor": 0,
  "metadata": {
    "colab": {
      "name": "7.2.5 API Mini-Project [Marcus Anderson].ipynb",
      "provenance": [],
      "collapsed_sections": [],
      "authorship_tag": "ABX9TyNoxtWsyEArX2RAISrbvjMM",
      "include_colab_link": true
    },
    "kernelspec": {
      "name": "python3",
      "display_name": "Python 3"
    },
    "language_info": {
      "name": "python"
    }
  },
  "cells": [
    {
      "cell_type": "markdown",
      "metadata": {
        "id": "view-in-github",
        "colab_type": "text"
      },
      "source": [
        "<a href=\"https://colab.research.google.com/github/clyde2020/Spring_2/blob/main/7_2_5_API_Mini_Project_%5BMarcus_Anderson%5D.ipynb\" target=\"_parent\"><img src=\"https://colab.research.google.com/assets/colab-badge.svg\" alt=\"Open In Colab\"/></a>"
      ]
    },
    {
      "cell_type": "code",
      "execution_count": 51,
      "metadata": {
        "id": "oIS4887J7dQa"
      },
      "outputs": [],
      "source": [
        "import os\n",
        "!pip install colab-env -qU\n",
        "import colab_env\n",
        "import numpy as np\n",
        "import requests\n",
        "\n",
        "API_KEY = os.getenv('PROJECT_API_KEY')\n",
        "url = f\"https://data.nasdaq.com/api/v3/datasets/FSE/AFX_X/data.json?api_key={API_KEY}\"\n",
        "r = requests.get(url)\n",
        "\n",
        "# Convert the returned JSON object into a Python dictionary.\n",
        "json_data = r.json()\n",
        "\n",
        "# Collect data from the Franfurt Stock Exchange, for the ticker AFX_X, for the whole year 2017 (keep in mind that the date format is YYYY-MM-DD).\n",
        "data_array = np.array([x for x in json_data['dataset_data']['data'] if x[0] >= '2017-01-01' and x[0] <= '2017-12-31'])\n",
        "records = len(data_array)"
      ]
    },
    {
      "cell_type": "code",
      "source": [
        "# Calculate what the highest and lowest opening prices were for the stock in this period.\n",
        "opens = data_array[:, 1].astype(float)\n",
        "print(f'The minimum 2017 opening price is {np.nanmin(opens)}')\n",
        "print(f'The maximum 2017 opening price is {np.nanmax(opens)}')"
      ],
      "metadata": {
        "colab": {
          "base_uri": "https://localhost:8080/"
        },
        "id": "ghCBC2dC7zVx",
        "outputId": "75e41a6b-1d87-4585-c057-6c1944281fce"
      },
      "execution_count": 52,
      "outputs": [
        {
          "output_type": "stream",
          "name": "stdout",
          "text": [
            "The minimum 2017 opening price is 34.0\n",
            "The maximum 2017 opening price is 53.11\n"
          ]
        }
      ]
    },
    {
      "cell_type": "code",
      "source": [
        "# What was the largest change in any one day (based on High and Low price)?\n",
        "dl = [abs(x[2] - x[3]) for x in data_array]\n",
        "print('The maximum 2017 intraday change is {:.2f}'.format(np.nanmax(dl)))"
      ],
      "metadata": {
        "colab": {
          "base_uri": "https://localhost:8080/"
        },
        "id": "G0p48n_g8A6s",
        "outputId": "9ad9e902-30ce-4c66-83ae-e25510d81cf4"
      },
      "execution_count": 53,
      "outputs": [
        {
          "output_type": "stream",
          "name": "stdout",
          "text": [
            "The maximum 2017 intraday change is 2.81\n"
          ]
        }
      ]
    },
    {
      "cell_type": "code",
      "source": [
        "# What was the largest change between any two days (based on Closing Price)?\n",
        "cl = [abs(data_array[i, 4] - data_array[(i-1), 4]) for i in range(1, records)]\n",
        "print('The maximum 2017 day to day change is {:.2f}'.format(np.nanmax(cl)))"
      ],
      "metadata": {
        "colab": {
          "base_uri": "https://localhost:8080/"
        },
        "id": "0AMgdNbI8mZI",
        "outputId": "04677006-62c8-41a7-ffeb-286be738776f"
      },
      "execution_count": 54,
      "outputs": [
        {
          "output_type": "stream",
          "name": "stdout",
          "text": [
            "The maximum 2017 day to day change is 2.56\n"
          ]
        }
      ]
    },
    {
      "cell_type": "code",
      "source": [
        "vols = sorted([x[6] for x in data_array])\n",
        "\n",
        "# What was the average daily trading volume during this year?\n",
        "print('The average 2017 daily trade volume is {:.0f}'.format(np.nanmean(vols)))\n",
        "\n",
        "# (Optional) What was the median trading volume during this year. (Note: you may need to implement your own function for calculating the median.)\n",
        "print('The median 2017 daily trade volume is {:.0f}'.format(vols[int(records/2)]))"
      ],
      "metadata": {
        "colab": {
          "base_uri": "https://localhost:8080/"
        },
        "id": "qVuJJSab8ykJ",
        "outputId": "c29ea4ed-980f-41a4-e1a1-03a1d48e034c"
      },
      "execution_count": 55,
      "outputs": [
        {
          "output_type": "stream",
          "name": "stdout",
          "text": [
            "The average 2017 daily trade volume is 89124\n",
            "The median 2017 daily trade volume is 76286\n"
          ]
        }
      ]
    },
    {
      "cell_type": "code",
      "source": [
        ""
      ],
      "metadata": {
        "id": "ekat_Osd9C-g"
      },
      "execution_count": null,
      "outputs": []
    }
  ]
}