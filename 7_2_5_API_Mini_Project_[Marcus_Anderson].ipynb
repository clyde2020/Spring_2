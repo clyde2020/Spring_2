{
  "nbformat": 4,
  "nbformat_minor": 0,
  "metadata": {
    "colab": {
      "name": "7.2.5 API Mini-Project [Marcus Anderson].ipynb",
      "provenance": [],
      "collapsed_sections": [],
      "authorship_tag": "ABX9TyOMnTkSVecv85WKsvy+7j8m",
      "include_colab_link": true
    },
    "kernelspec": {
      "name": "python3",
      "display_name": "Python 3"
    },
    "language_info": {
      "name": "python"
    }
  },
  "cells": [
    {
      "cell_type": "markdown",
      "metadata": {
        "id": "view-in-github",
        "colab_type": "text"
      },
      "source": [
        "<a href=\"https://colab.research.google.com/github/clyde2020/Spring_2/blob/main/7_2_5_API_Mini_Project_%5BMarcus_Anderson%5D.ipynb\" target=\"_parent\"><img src=\"https://colab.research.google.com/assets/colab-badge.svg\" alt=\"Open In Colab\"/></a>"
      ]
    },
    {
      "cell_type": "code",
      "execution_count": 29,
      "metadata": {
        "id": "oIS4887J7dQa"
      },
      "outputs": [],
      "source": [
        "import os\n",
        "!pip install colab-env -qU\n",
        "import colab_env\n",
        "import numpy as np\n",
        "import requests\n",
        "\n",
        "API_KEY = os.getenv('PROJECT_API_KEY')\n",
        "url = f\"https://data.nasdaq.com/api/v3/datasets/FSE/AFX_X/data.json?api_key={API_KEY}\"\n",
        "r = requests.get(url)\n",
        "json_data = r.json()\n",
        "\n",
        "data_array = np.array([x for x in json_data['dataset_data']['data'] if x[0] >= '2017-01-01' and x[0] <= '2017-12-31'])\n",
        "records = len(data_array)"
      ]
    },
    {
      "cell_type": "code",
      "source": [
        "opens = data_array[:, 1].astype(float)\n",
        "print(f'The minimum 2017 opening price is {np.nanmin(opens)}')\n",
        "print(f'The maximum 2017 opening price is {np.nanmax(opens)}')"
      ],
      "metadata": {
        "colab": {
          "base_uri": "https://localhost:8080/"
        },
        "id": "ghCBC2dC7zVx",
        "outputId": "89fc3dab-feee-443a-c4e8-7562f99feafe"
      },
      "execution_count": 30,
      "outputs": [
        {
          "output_type": "stream",
          "name": "stdout",
          "text": [
            "The minimum 2017 opening price is 34.0\n",
            "The maximum 2017 opening price is 53.11\n"
          ]
        }
      ]
    },
    {
      "cell_type": "code",
      "source": [
        "dl = [x[2] - x[3] for x in data_array]\n",
        "print(f'The minimum 2017 daily change is {np.nanmin(dl)}')\n",
        "print(f'The maximum 2017 daily change is {np.nanmax(dl)}')"
      ],
      "metadata": {
        "colab": {
          "base_uri": "https://localhost:8080/"
        },
        "id": "G0p48n_g8A6s",
        "outputId": "ad35909b-236b-4851-81ef-cfc3ac483efa"
      },
      "execution_count": 31,
      "outputs": [
        {
          "output_type": "stream",
          "name": "stdout",
          "text": [
            "The minimum 2017 daily change is 0.18999999999999773\n",
            "The maximum 2017 daily change is 2.8100000000000023\n"
          ]
        }
      ]
    },
    {
      "cell_type": "code",
      "source": [
        "cl = [abs(data_array[i, 4] - data_array[(i-1), 4]) for i in range(1, records)]\n",
        "print(f'The maximum 2017 day to day change is {np.nanmax(cl)}')"
      ],
      "metadata": {
        "colab": {
          "base_uri": "https://localhost:8080/"
        },
        "id": "0AMgdNbI8mZI",
        "outputId": "5e6fa894-69b3-4115-f7c9-5f91fddea8ff"
      },
      "execution_count": 32,
      "outputs": [
        {
          "output_type": "stream",
          "name": "stdout",
          "text": [
            "The maximum 2017 day to day change is 2.559999999999995\n"
          ]
        }
      ]
    },
    {
      "cell_type": "code",
      "source": [
        "vols = sorted([x[6] for x in data_array])\n",
        "print(f'The average 2017 daily trade volume is {np.nanmean(vols)}')\n",
        "print(f'The median 2017 daily trade volume is {vols[int(records/2)]}')"
      ],
      "metadata": {
        "colab": {
          "base_uri": "https://localhost:8080/"
        },
        "id": "qVuJJSab8ykJ",
        "outputId": "028be63c-8eb8-44e1-c7ba-0c7ba2f6a03d"
      },
      "execution_count": 33,
      "outputs": [
        {
          "output_type": "stream",
          "name": "stdout",
          "text": [
            "The average 2017 daily trade volume is 89124.33725490196\n",
            "The median 2017 daily trade volume is 76286.0\n"
          ]
        }
      ]
    },
    {
      "cell_type": "code",
      "source": [
        ""
      ],
      "metadata": {
        "id": "ekat_Osd9C-g"
      },
      "execution_count": null,
      "outputs": []
    }
  ]
}