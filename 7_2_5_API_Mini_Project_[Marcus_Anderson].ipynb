{
  "nbformat": 4,
  "nbformat_minor": 0,
  "metadata": {
    "colab": {
      "name": "7.2.5 API Mini-Project [Marcus Anderson].ipynb",
      "provenance": [],
      "collapsed_sections": [],
      "authorship_tag": "ABX9TyPLCjCD1nBckQtX3Cl1uyd7",
      "include_colab_link": true
    },
    "kernelspec": {
      "name": "python3",
      "display_name": "Python 3"
    },
    "language_info": {
      "name": "python"
    }
  },
  "cells": [
    {
      "cell_type": "markdown",
      "metadata": {
        "id": "view-in-github",
        "colab_type": "text"
      },
      "source": [
        "<a href=\"https://colab.research.google.com/github/clyde2020/Spring_2/blob/main/7_2_5_API_Mini_Project_%5BMarcus_Anderson%5D.ipynb\" target=\"_parent\"><img src=\"https://colab.research.google.com/assets/colab-badge.svg\" alt=\"Open In Colab\"/></a>"
      ]
    },
    {
      "cell_type": "code",
      "execution_count": 44,
      "metadata": {
        "id": "oIS4887J7dQa"
      },
      "outputs": [],
      "source": [
        "import os\n",
        "!pip install colab-env -qU\n",
        "import colab_env\n",
        "import numpy as np\n",
        "import requests\n",
        "\n",
        "API_KEY = os.getenv('PROJECT_API_KEY')\n",
        "url = f\"https://data.nasdaq.com/api/v3/datasets/FSE/AFX_X/data.json?api_key={API_KEY}\"\n",
        "r = requests.get(url)\n",
        "json_data = r.json()\n",
        "\n",
        "data_array = np.array([x for x in json_data['dataset_data']['data'] if x[0] >= '2017-01-01' and x[0] <= '2017-12-31'])\n",
        "records = len(data_array)"
      ]
    },
    {
      "cell_type": "code",
      "source": [
        "opens = data_array[:, 1].astype(float)\n",
        "print(f'The minimum 2017 opening price is {np.nanmin(opens)}')\n",
        "print(f'The maximum 2017 opening price is {np.nanmax(opens)}')"
      ],
      "metadata": {
        "colab": {
          "base_uri": "https://localhost:8080/"
        },
        "id": "ghCBC2dC7zVx",
        "outputId": "2538cbeb-4a51-4a63-bd72-591bb3f1f2b0"
      },
      "execution_count": 45,
      "outputs": [
        {
          "output_type": "stream",
          "name": "stdout",
          "text": [
            "The minimum 2017 opening price is 34.0\n",
            "The maximum 2017 opening price is 53.11\n"
          ]
        }
      ]
    },
    {
      "cell_type": "code",
      "source": [
        "dl = [x[2] - x[3] for x in data_array]\n",
        "print('The minimum 2017 intradaily change is {:.2f}'.format(np.nanmin(dl)))\n",
        "print('The maximum 2017 intradaily change is {:.2f}'.format(np.nanmax(dl)))"
      ],
      "metadata": {
        "colab": {
          "base_uri": "https://localhost:8080/"
        },
        "id": "G0p48n_g8A6s",
        "outputId": "8d038423-8ef2-40cb-e41e-c951cf7d8655"
      },
      "execution_count": 46,
      "outputs": [
        {
          "output_type": "stream",
          "name": "stdout",
          "text": [
            "The minimum 2017 intradaily change is 0.19\n",
            "The maximum 2017 intradaily change is 2.81\n"
          ]
        }
      ]
    },
    {
      "cell_type": "code",
      "source": [
        "cl = [abs(data_array[i, 4] - data_array[(i-1), 4]) for i in range(1, records)]\n",
        "print('The maximum 2017 day to day change is {:.2f}'.format(np.nanmax(cl)))"
      ],
      "metadata": {
        "colab": {
          "base_uri": "https://localhost:8080/"
        },
        "id": "0AMgdNbI8mZI",
        "outputId": "b449c037-9279-4512-ae26-e43eca792a6b"
      },
      "execution_count": 47,
      "outputs": [
        {
          "output_type": "stream",
          "name": "stdout",
          "text": [
            "The maximum 2017 day to day change is 2.56\n"
          ]
        }
      ]
    },
    {
      "cell_type": "code",
      "source": [
        "vols = sorted([x[6] for x in data_array])\n",
        "print('The average 2017 daily trade volume is {:.0f}'.format(np.nanmean(vols)))\n",
        "print('The median 2017 daily trade volume is {:.0f}'.format(vols[int(records/2)]))"
      ],
      "metadata": {
        "colab": {
          "base_uri": "https://localhost:8080/"
        },
        "id": "qVuJJSab8ykJ",
        "outputId": "1ad24a97-d170-46db-fb47-5a6fe9efd4db"
      },
      "execution_count": 48,
      "outputs": [
        {
          "output_type": "stream",
          "name": "stdout",
          "text": [
            "The average 2017 daily trade volume is 89124\n",
            "The median 2017 daily trade volume is 76286\n"
          ]
        }
      ]
    },
    {
      "cell_type": "code",
      "source": [
        ""
      ],
      "metadata": {
        "id": "ekat_Osd9C-g"
      },
      "execution_count": null,
      "outputs": []
    }
  ]
}