{
  "nbformat": 4,
  "nbformat_minor": 0,
  "metadata": {
    "colab": {
      "name": "7.2.5 API Mini-Project [Marcus Anderson].ipynb",
      "provenance": [],
      "collapsed_sections": [],
      "authorship_tag": "ABX9TyO78df/dJaTlh2u7qwYMrkU",
      "include_colab_link": true
    },
    "kernelspec": {
      "name": "python3",
      "display_name": "Python 3"
    },
    "language_info": {
      "name": "python"
    }
  },
  "cells": [
    {
      "cell_type": "markdown",
      "metadata": {
        "id": "view-in-github",
        "colab_type": "text"
      },
      "source": [
        "<a href=\"https://colab.research.google.com/github/clyde2020/Spring_2/blob/main/7_2_5_API_Mini_Project_%5BMarcus_Anderson%5D.ipynb\" target=\"_parent\"><img src=\"https://colab.research.google.com/assets/colab-badge.svg\" alt=\"Open In Colab\"/></a>"
      ]
    },
    {
      "cell_type": "code",
      "execution_count": 15,
      "metadata": {
        "id": "oIS4887J7dQa"
      },
      "outputs": [],
      "source": [
        "import os\n",
        "!pip install colab-env -qU\n",
        "import colab_env\n",
        "import numpy as np\n",
        "import requests\n",
        "\n",
        "API_KEY = os.getenv('PROJECT_API_KEY')\n",
        "url = f\"https://data.nasdaq.com/api/v3/datasets/FSE/AFX_X/data.json?api_key={API_KEY}\"\n",
        "r = requests.get(url)\n",
        "json_data = r.json()\n",
        "\n",
        "data = json_data['dataset_data']['data']\n",
        "data_2017_list = [x for x in data if x[0] >= '2017-01-01' and x[0] <= '2017-12-31']\n",
        "data_array = np.array(data_2017_list)\n",
        "records = len(data_array)"
      ]
    },
    {
      "cell_type": "code",
      "source": [
        "opens = data_array[:, 1]\n",
        "opens = opens.astype(float)\n",
        "print(f'The minimum 2017 opening price is {np.nanmin(opens)}')\n",
        "print(f'The maximum 2017 opening price is {np.nanmax(opens)}')"
      ],
      "metadata": {
        "colab": {
          "base_uri": "https://localhost:8080/"
        },
        "id": "ghCBC2dC7zVx",
        "outputId": "034426d1-0d0f-42c1-e2c4-28b105c9acbf"
      },
      "execution_count": 16,
      "outputs": [
        {
          "output_type": "stream",
          "name": "stdout",
          "text": [
            "The minimum 2017 opening price is 34.0\n",
            "The maximum 2017 opening price is 53.11\n"
          ]
        }
      ]
    },
    {
      "cell_type": "code",
      "source": [
        "dl = [x[2] - x[3] for x in data_array]\n",
        "print(f'The minimum 2017 daily change is {np.nanmin(dl)}')\n",
        "print(f'The maximum 2017 daily change is {np.nanmax(dl)}')"
      ],
      "metadata": {
        "colab": {
          "base_uri": "https://localhost:8080/"
        },
        "id": "G0p48n_g8A6s",
        "outputId": "3bc83671-2e64-4bcc-9530-0fee4b5f6f6e"
      },
      "execution_count": 17,
      "outputs": [
        {
          "output_type": "stream",
          "name": "stdout",
          "text": [
            "The minimum 2017 daily change is 0.18999999999999773\n",
            "The maximum 2017 daily change is 2.8100000000000023\n"
          ]
        }
      ]
    },
    {
      "cell_type": "code",
      "source": [
        "cl = [abs(data_array[i, 4] - data_array[(i-1), 4]) for i in range(1, records)]\n",
        "print(f'The maximum 2017 day to day change is {np.nanmax(cl)}')"
      ],
      "metadata": {
        "colab": {
          "base_uri": "https://localhost:8080/"
        },
        "id": "0AMgdNbI8mZI",
        "outputId": "42148f73-0fe9-4148-e33f-bfe628988837"
      },
      "execution_count": 18,
      "outputs": [
        {
          "output_type": "stream",
          "name": "stdout",
          "text": [
            "The maximum 2017 day to day change is 2.559999999999995\n"
          ]
        }
      ]
    },
    {
      "cell_type": "code",
      "source": [
        "vols = sorted([x[6] for x in data_array])\n",
        "vl = np.nanmean(vols)\n",
        "print(f'The average 2017 daily trade volume is {vl}')\n",
        "print(f'The median 2017 daily trade volume is {vols[int(records/2)]}')"
      ],
      "metadata": {
        "colab": {
          "base_uri": "https://localhost:8080/"
        },
        "id": "qVuJJSab8ykJ",
        "outputId": "c4fdb98d-2c98-438b-fcce-39c5892404ae"
      },
      "execution_count": 19,
      "outputs": [
        {
          "output_type": "stream",
          "name": "stdout",
          "text": [
            "The average 2017 daily trade volume is 89124.33725490196\n",
            "The median 2017 daily trade volume is 76286.0\n"
          ]
        }
      ]
    },
    {
      "cell_type": "code",
      "source": [
        ""
      ],
      "metadata": {
        "id": "ekat_Osd9C-g"
      },
      "execution_count": null,
      "outputs": []
    }
  ]
}